{
 "cells": [
  {
   "cell_type": "code",
   "execution_count": 63,
   "metadata": {},
   "outputs": [],
   "source": [
    "import pandas as pd\n",
    "import numpy as np\n",
    "import torch\n",
    "import torch.nn as nn\n",
    "import torch.optim as optim\n",
    "from sklearn.model_selection import train_test_split\n",
    "from sklearn.preprocessing import StandardScaler\n",
    "from sklearn.metrics import classification_report, confusion_matrix\n",
    "from torch.utils.data import TensorDataset, DataLoader"
   ]
  },
  {
   "cell_type": "code",
   "execution_count": 64,
   "metadata": {},
   "outputs": [],
   "source": [
    "df = pd.read_csv('defillama_stablecoin_pools.csv')\n",
    "\n",
    "# for `APY Reward`, `APY Base`, `APY`, and `APY Mean 30d` column, fill na with 0\n",
    "df['APY Reward'] = df['APY Reward'].fillna(0)\n",
    "df['APY Base'] = df['APY Base'].fillna(0)\n",
    "df['APY'] = df['APY'].fillna(0)\n",
    "df['APY Mean 30d'] = df['APY Mean 30d'].fillna(0)\n",
    "\n",
    "# for `Confidence` column, fill na with 1\n",
    "df['Confidence'] = df['Confidence'].fillna(1)\n",
    "\n",
    "# for `Outlook` column, fill na with \"Down\"\n",
    "df['Outlook'] = df['Outlook'].fillna('Down')"
   ]
  },
  {
   "cell_type": "code",
   "execution_count": 65,
   "metadata": {},
   "outputs": [
    {
     "name": "stdout",
     "output_type": "stream",
     "text": [
      "Pool            0\n",
      "Project         0\n",
      "Category        0\n",
      "Chain           0\n",
      "TVL             0\n",
      "APY             0\n",
      "APY Base        0\n",
      "APY Mean 30d    0\n",
      "APY Reward      0\n",
      "Outlook         0\n",
      "Confidence      0\n",
      "dtype: int64\n"
     ]
    }
   ],
   "source": [
    "# Check na\n",
    "print(df.isna().sum())"
   ]
  },
  {
   "cell_type": "code",
   "execution_count": 66,
   "metadata": {},
   "outputs": [
    {
     "data": {
      "text/plain": [
       "Index(['TVL', 'APY', 'APY Base', 'APY Mean 30d', 'APY Reward', 'Confidence',\n",
       "       'Pool_9SUSDC11CORE', 'Pool_9SUSDCCORE', 'Pool_ADAI-AUSDC-AUSDT',\n",
       "       'Pool_ALUSD-FRAX-USDC',\n",
       "       ...\n",
       "       'Chain_Sui', 'Chain_Taiko', 'Chain_Tezos', 'Chain_Ton', 'Chain_Tron',\n",
       "       'Chain_Unit0', 'Chain_Venom', 'Chain_zkSync Era', 'Outlook_Down',\n",
       "       'Outlook_Up'],\n",
       "      dtype='object', length=623)"
      ]
     },
     "execution_count": 66,
     "metadata": {},
     "output_type": "execute_result"
    }
   ],
   "source": [
    "categorical_cols = df.select_dtypes(include=['object']).columns\n",
    "\n",
    "# One-hot encode categorical columns\n",
    "df = pd.get_dummies(df, columns=categorical_cols)\n",
    "df.columns"
   ]
  },
  {
   "cell_type": "code",
   "execution_count": 67,
   "metadata": {},
   "outputs": [
    {
     "name": "stdout",
     "output_type": "stream",
     "text": [
      "(1160, 622) (1160,)\n"
     ]
    }
   ],
   "source": [
    "X = df.drop('Confidence', axis=1)\n",
    "y = df['Confidence'] - 1\n",
    "\n",
    "# Normalize features using StandardScaler\n",
    "scaler = StandardScaler()\n",
    "X_scaled = scaler.fit_transform(X)\n",
    "\n",
    "print(X.shape, y.shape)"
   ]
  },
  {
   "cell_type": "code",
   "execution_count": 68,
   "metadata": {},
   "outputs": [],
   "source": [
    "# Split data into training and test sets\n",
    "X_train, X_test, y_train, y_test = train_test_split(\n",
    "    X_scaled, y, test_size=0.2, random_state=42\n",
    ")\n",
    "\n",
    "# Convert numpy arrays to PyTorch tensors\n",
    "X_train_tensor = torch.FloatTensor(X_train)\n",
    "y_train_tensor = torch.LongTensor(y_train.values)  # assuming y is integer class labels\n",
    "X_test_tensor = torch.FloatTensor(X_test)\n",
    "y_test_tensor = torch.LongTensor(y_test.values)\n",
    "\n",
    "# Create TensorDatasets and DataLoaders\n",
    "train_dataset = TensorDataset(X_train_tensor, y_train_tensor)\n",
    "test_dataset = TensorDataset(X_test_tensor, y_test_tensor)\n",
    "\n",
    "train_loader = DataLoader(train_dataset, batch_size=32, shuffle=True)\n",
    "test_loader = DataLoader(test_dataset, batch_size=32, shuffle=False)\n"
   ]
  },
  {
   "cell_type": "code",
   "execution_count": 69,
   "metadata": {},
   "outputs": [
    {
     "name": "stdout",
     "output_type": "stream",
     "text": [
      "ANN(\n",
      "  (fc1): Linear(in_features=622, out_features=64, bias=True)\n",
      "  (relu): ReLU()\n",
      "  (fc2): Linear(in_features=64, out_features=3, bias=True)\n",
      ")\n"
     ]
    }
   ],
   "source": [
    "class ANN(nn.Module):\n",
    "    def __init__(self, input_dim, hidden_dim, output_dim):\n",
    "        super(ANN, self).__init__()\n",
    "        self.fc1 = nn.Linear(input_dim, hidden_dim)\n",
    "        self.relu = nn.ReLU()\n",
    "        self.fc2 = nn.Linear(hidden_dim, output_dim)\n",
    "        \n",
    "    def forward(self, x):\n",
    "        out = self.fc1(x)\n",
    "        out = self.relu(out)\n",
    "        out = self.fc2(out)\n",
    "        return out\n",
    "\n",
    "# Set dimensions based on your data\n",
    "input_dim = X_train_tensor.shape[1]\n",
    "hidden_dim = 64  # You can adjust this as needed\n",
    "output_dim = len(np.unique(y))  # Assumes 'target' contains class labels\n",
    "\n",
    "model = ANN(input_dim, hidden_dim, output_dim)\n",
    "print(model)"
   ]
  },
  {
   "cell_type": "code",
   "execution_count": 70,
   "metadata": {},
   "outputs": [],
   "source": [
    "criterion = nn.CrossEntropyLoss()\n",
    "optimizer = optim.Adam(model.parameters(), lr=0.001)\n"
   ]
  },
  {
   "cell_type": "code",
   "execution_count": 71,
   "metadata": {},
   "outputs": [],
   "source": [
    "def train(model, train_loader, criterion, optimizer, num_epochs):\n",
    "    model.train()  # Set model to training mode\n",
    "    for epoch in range(num_epochs):\n",
    "        running_loss = 0.0\n",
    "        for inputs, labels in train_loader:\n",
    "            optimizer.zero_grad()         # Zero the parameter gradients\n",
    "            outputs = model(inputs)       # Forward pass\n",
    "            loss = criterion(outputs, labels)\n",
    "            loss.backward()               # Backpropagation\n",
    "            optimizer.step()              # Update parameters\n",
    "            running_loss += loss.item() * inputs.size(0)\n",
    "        \n",
    "        epoch_loss = running_loss / len(train_loader.dataset)\n",
    "        print(f\"Epoch {epoch+1}/{num_epochs}, Loss: {epoch_loss:.4f}\")\n",
    "\n",
    "def evaluate(model, test_loader):\n",
    "    model.eval()  # Set model to evaluation mode\n",
    "    all_preds = []\n",
    "    all_labels = []\n",
    "    with torch.no_grad():\n",
    "        for inputs, labels in test_loader:\n",
    "            outputs = model(inputs)\n",
    "            _, preds = torch.max(outputs, 1)\n",
    "            all_preds.extend(preds.cpu().numpy())\n",
    "            all_labels.extend(labels.cpu().numpy())\n",
    "    \n",
    "    # Compute accuracy\n",
    "    all_preds = np.array(all_preds)\n",
    "    all_labels = np.array(all_labels)\n",
    "    accuracy = np.mean(all_preds == all_labels)\n",
    "    \n",
    "    print(f\"Accuracy: {accuracy:.4f}\")\n",
    "    return all_labels, all_preds\n"
   ]
  },
  {
   "cell_type": "code",
   "execution_count": 72,
   "metadata": {},
   "outputs": [
    {
     "name": "stdout",
     "output_type": "stream",
     "text": [
      "Epoch 1/100, Loss: 1.0565\n",
      "Epoch 2/100, Loss: 0.8696\n",
      "Epoch 3/100, Loss: 0.7067\n",
      "Epoch 4/100, Loss: 0.5776\n",
      "Epoch 5/100, Loss: 0.4899\n",
      "Epoch 6/100, Loss: 0.4390\n",
      "Epoch 7/100, Loss: 0.3979\n",
      "Epoch 8/100, Loss: 0.3707\n",
      "Epoch 9/100, Loss: 0.3548\n",
      "Epoch 10/100, Loss: 0.3358\n",
      "Epoch 11/100, Loss: 0.3241\n",
      "Epoch 12/100, Loss: 0.3124\n",
      "Epoch 13/100, Loss: 0.3023\n",
      "Epoch 14/100, Loss: 0.2871\n",
      "Epoch 15/100, Loss: 0.2810\n",
      "Epoch 16/100, Loss: 0.2751\n",
      "Epoch 17/100, Loss: 0.2650\n",
      "Epoch 18/100, Loss: 0.2571\n",
      "Epoch 19/100, Loss: 0.2514\n",
      "Epoch 20/100, Loss: 0.2429\n",
      "Epoch 21/100, Loss: 0.2376\n",
      "Epoch 22/100, Loss: 0.2279\n",
      "Epoch 23/100, Loss: 0.2225\n",
      "Epoch 24/100, Loss: 0.2191\n",
      "Epoch 25/100, Loss: 0.2078\n",
      "Epoch 26/100, Loss: 0.2042\n",
      "Epoch 27/100, Loss: 0.1984\n",
      "Epoch 28/100, Loss: 0.1933\n",
      "Epoch 29/100, Loss: 0.1850\n",
      "Epoch 30/100, Loss: 0.1811\n",
      "Epoch 31/100, Loss: 0.1758\n",
      "Epoch 32/100, Loss: 0.1737\n",
      "Epoch 33/100, Loss: 0.1678\n",
      "Epoch 34/100, Loss: 0.1642\n",
      "Epoch 35/100, Loss: 0.1623\n",
      "Epoch 36/100, Loss: 0.1553\n",
      "Epoch 37/100, Loss: 0.1533\n",
      "Epoch 38/100, Loss: 0.1476\n",
      "Epoch 39/100, Loss: 0.1476\n",
      "Epoch 40/100, Loss: 0.1444\n",
      "Epoch 41/100, Loss: 0.1423\n",
      "Epoch 42/100, Loss: 0.1395\n",
      "Epoch 43/100, Loss: 0.1355\n",
      "Epoch 44/100, Loss: 0.1350\n",
      "Epoch 45/100, Loss: 0.1334\n",
      "Epoch 46/100, Loss: 0.1312\n",
      "Epoch 47/100, Loss: 0.1305\n",
      "Epoch 48/100, Loss: 0.1283\n",
      "Epoch 49/100, Loss: 0.1232\n",
      "Epoch 50/100, Loss: 0.1213\n",
      "Epoch 51/100, Loss: 0.1226\n",
      "Epoch 52/100, Loss: 0.1204\n",
      "Epoch 53/100, Loss: 0.1161\n",
      "Epoch 54/100, Loss: 0.1202\n",
      "Epoch 55/100, Loss: 0.1193\n",
      "Epoch 56/100, Loss: 0.1190\n",
      "Epoch 57/100, Loss: 0.1135\n",
      "Epoch 58/100, Loss: 0.1128\n",
      "Epoch 59/100, Loss: 0.1118\n",
      "Epoch 60/100, Loss: 0.1129\n",
      "Epoch 61/100, Loss: 0.1079\n",
      "Epoch 62/100, Loss: 0.1101\n",
      "Epoch 63/100, Loss: 0.1069\n",
      "Epoch 64/100, Loss: 0.1036\n",
      "Epoch 65/100, Loss: 0.1066\n",
      "Epoch 66/100, Loss: 0.1073\n",
      "Epoch 67/100, Loss: 0.1044\n",
      "Epoch 68/100, Loss: 0.1041\n",
      "Epoch 69/100, Loss: 0.1028\n",
      "Epoch 70/100, Loss: 0.1041\n",
      "Epoch 71/100, Loss: 0.1036\n",
      "Epoch 72/100, Loss: 0.1030\n",
      "Epoch 73/100, Loss: 0.1031\n",
      "Epoch 74/100, Loss: 0.1038\n",
      "Epoch 75/100, Loss: 0.0975\n",
      "Epoch 76/100, Loss: 0.1029\n",
      "Epoch 77/100, Loss: 0.1042\n",
      "Epoch 78/100, Loss: 0.0965\n",
      "Epoch 79/100, Loss: 0.0984\n",
      "Epoch 80/100, Loss: 0.0974\n",
      "Epoch 81/100, Loss: 0.0966\n",
      "Epoch 82/100, Loss: 0.0978\n",
      "Epoch 83/100, Loss: 0.0990\n",
      "Epoch 84/100, Loss: 0.0967\n",
      "Epoch 85/100, Loss: 0.0961\n",
      "Epoch 86/100, Loss: 0.0984\n",
      "Epoch 87/100, Loss: 0.0935\n",
      "Epoch 88/100, Loss: 0.0967\n",
      "Epoch 89/100, Loss: 0.0959\n",
      "Epoch 90/100, Loss: 0.0956\n",
      "Epoch 91/100, Loss: 0.0912\n",
      "Epoch 92/100, Loss: 0.0938\n",
      "Epoch 93/100, Loss: 0.0953\n",
      "Epoch 94/100, Loss: 0.1008\n",
      "Epoch 95/100, Loss: 0.0900\n",
      "Epoch 96/100, Loss: 0.0972\n",
      "Epoch 97/100, Loss: 0.0913\n",
      "Epoch 98/100, Loss: 0.0916\n",
      "Epoch 99/100, Loss: 0.0951\n",
      "Epoch 100/100, Loss: 0.0904\n"
     ]
    }
   ],
   "source": [
    "num_epochs = 100  # Adjust the number of epochs as needed\n",
    "train(model, train_loader, criterion, optimizer, num_epochs)"
   ]
  },
  {
   "cell_type": "code",
   "execution_count": 73,
   "metadata": {},
   "outputs": [
    {
     "name": "stdout",
     "output_type": "stream",
     "text": [
      "Accuracy: 0.4569\n",
      "Classification Report:\n",
      "              precision    recall  f1-score   support\n",
      "\n",
      "           0       0.48      0.72      0.57        88\n",
      "           1       0.39      0.24      0.30        83\n",
      "           2       0.47      0.38      0.42        61\n",
      "\n",
      "    accuracy                           0.46       232\n",
      "   macro avg       0.45      0.44      0.43       232\n",
      "weighted avg       0.44      0.46      0.43       232\n",
      "\n",
      "Confusion Matrix:\n",
      "[[63 16  9]\n",
      " [46 20 17]\n",
      " [23 15 23]]\n"
     ]
    }
   ],
   "source": [
    "true_labels, predictions = evaluate(model, test_loader)\n",
    "\n",
    "# Print the classification report and confusion matrix\n",
    "print(\"Classification Report:\")\n",
    "print(classification_report(true_labels, predictions))\n",
    "\n",
    "print(\"Confusion Matrix:\")\n",
    "print(confusion_matrix(true_labels, predictions))"
   ]
  },
  {
   "cell_type": "code",
   "execution_count": null,
   "metadata": {},
   "outputs": [],
   "source": [
    "# Export the model\n",
    "torch.save(model.state_dict(), '../model/risk-assess-model.pth')"
   ]
  },
  {
   "cell_type": "code",
   "execution_count": null,
   "metadata": {},
   "outputs": [],
   "source": []
  }
 ],
 "metadata": {
  "kernelspec": {
   "display_name": "Python 3",
   "language": "python",
   "name": "python3"
  },
  "language_info": {
   "codemirror_mode": {
    "name": "ipython",
    "version": 3
   },
   "file_extension": ".py",
   "mimetype": "text/x-python",
   "name": "python",
   "nbconvert_exporter": "python",
   "pygments_lexer": "ipython3",
   "version": "3.12.6"
  }
 },
 "nbformat": 4,
 "nbformat_minor": 2
}
